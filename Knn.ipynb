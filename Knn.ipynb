{
  "nbformat": 4,
  "nbformat_minor": 0,
  "metadata": {
    "colab": {
      "provenance": []
    },
    "kernelspec": {
      "name": "python3",
      "display_name": "Python 3"
    },
    "language_info": {
      "name": "python"
    }
  },
  "cells": [
    {
      "cell_type": "code",
      "execution_count": 30,
      "metadata": {
        "id": "syH3iZ9cvZZX"
      },
      "outputs": [],
      "source": [
        "import pandas as pd\n",
        "from sklearn.model_selection import train_test_split\n",
        "from sklearn.neighbors import KNeighborsClassifier\n",
        "from sklearn.preprocessing import StandardScaler\n",
        "from sklearn.metrics import confusion_matrix, accuracy_score"
      ]
    },
    {
      "cell_type": "code",
      "source": [],
      "metadata": {
        "id": "NMtPPdFNAxvp"
      },
      "execution_count": null,
      "outputs": []
    },
    {
      "cell_type": "code",
      "source": [
        "data = pd.read_csv('knn34.csv')"
      ],
      "metadata": {
        "id": "oo3aE9VDwDcX"
      },
      "execution_count": 31,
      "outputs": []
    },
    {
      "cell_type": "code",
      "source": [
        "# Identify and encode categorical columns\n",
        "categorical_cols = data.select_dtypes(include=['object']).columns\n",
        "label_encoders = {}\n",
        "for col in categorical_cols:\n",
        "    label_encoders[col] = LabelEncoder()\n",
        "    data[col] = label_encoders[col].fit_transform(data[col])\n",
        "\n",
        "# Split the data into features (X) and target (y)\n",
        "X = data.drop('Credit_Score', axis=1)\n",
        "y = data['Credit_Score']\n",
        "\n",
        "# Split the data into training and test sets\n",
        "X_train, X_test, y_train, y_test = train_test_split(X, y, test_size=0.3, random_state=42)\n",
        "\n",
        "# Standardize the features\n",
        "scaler = StandardScaler()\n",
        "X_train_scaled = scaler.fit_transform(X_train)\n",
        "X_test_scaled = scaler.transform(X_test)\n",
        "\n",
        "# Function to evaluate performance\n",
        "def evaluate_performance(y_test, y_pred, cutoff, method):\n",
        "    tn, fp, fn, tp = confusion_matrix(y_test, y_pred).ravel()\n",
        "    sensitivity = tp / (tp + fn) if (tp + fn) != 0 else 0\n",
        "    specificity = tn / (tn + fp) if (tn + fp) != 0 else 0\n",
        "    accuracy = accuracy_score(y_test, y_pred)\n",
        "    error_rate = 1 - accuracy\n",
        "\n",
        "    performance_measures = {\n",
        "        'Method': method,\n",
        "        'Cutoff': cutoff,\n",
        "        'ErrorRate': error_rate,\n",
        "        'Sensitivity': sensitivity,\n",
        "        'Specificity': specificity,\n",
        "        'Accuracy': accuracy\n",
        "    }\n",
        "\n",
        "    return performance_measures\n",
        "\n",
        "# KNN\n",
        "print(\"KNN\")\n",
        "cutoffs = [0.6, 0.7, 0.8]\n",
        "result_knn = pd.DataFrame(columns=[\"Method\", \"Cutoff\", \"ErrorRate\", \"Sensitivity\", \"Specificity\", \"Accuracy\"])\n",
        "\n",
        "for cutoff in cutoffs:\n",
        "    best_score = 0  # Initialize best_score to 0\n",
        "    best_k = None\n",
        "\n",
        "    for k in range(1, 101, 2):\n",
        "        knn = KNeighborsClassifier(n_neighbors=k)\n",
        "        knn.fit(X_train_scaled, y_train)\n",
        "        y_pred_proba = knn.predict_proba(X_test_scaled)[:, 1]\n",
        "        y_pred = [1 if prob >= cutoff else 0 for prob in y_pred_proba]\n",
        "        score = 1 - sum(y_pred != y_test) / len(y_test)\n",
        "        if score > best_score:  # Update condition to select the highest accuracy\n",
        "            best_score = score\n",
        "            best_k = k\n",
        "\n",
        "    print(f\"Best K: {best_k}\")\n",
        "    knn = KNeighborsClassifier(n_neighbors=best_k)\n",
        "    knn.fit(X_train_scaled, y_train)\n",
        "    y_pred_proba = knn.predict_proba(X_test_scaled)[:, 1]\n",
        "    y_pred = [1 if prob >= cutoff else 0 for prob in y_pred_proba]\n",
        "    performance = evaluate_performance(y_test, y_pred, cutoff, 'KNN')\n",
        "    result_row = pd.DataFrame([performance])\n",
        "    result_knn = pd.concat([result_knn, result_row], ignore_index=True)\n",
        "\n",
        "print(result_knn)"
      ],
      "metadata": {
        "colab": {
          "base_uri": "https://localhost:8080/"
        },
        "id": "5xiME0cG6YBG",
        "outputId": "41f83c75-ab6e-4450-d371-adb63f8c2408"
      },
      "execution_count": 32,
      "outputs": [
        {
          "output_type": "stream",
          "name": "stdout",
          "text": [
            "KNN\n",
            "Best K: 5\n",
            "Best K: 7\n",
            "Best K: 1\n",
            "  Method  Cutoff  ErrorRate  Sensitivity  Specificity  Accuracy\n",
            "0    KNN     0.6   0.201884     0.797506     0.798740  0.798116\n",
            "1    KNN     0.7   0.216892     0.678030     0.890648  0.783108\n",
            "2    KNN     0.8   0.225034     0.791824     0.757713  0.774966\n"
          ]
        }
      ]
    }
  ]
}